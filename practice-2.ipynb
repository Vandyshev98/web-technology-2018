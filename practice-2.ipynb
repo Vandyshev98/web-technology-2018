{
 "cells": [
  {
   "cell_type": "markdown",
   "metadata": {},
   "source": [
    "# Практическая работа 2"
   ]
  },
  {
   "cell_type": "markdown",
   "metadata": {},
   "source": [
    "## Описание проделанной работы\n",
    "В этой работе на основе данных с https://lectureswww.readthedocs.io/6.www.sync/3.framework/pyramid/4.database.html я создал базу данных.<br> БД состоит из двух таблиц. Первая таблица хранит в себе персональные логин и пароль пользователя веб сервиса. Вторая таблица хранит в себе данные о фильмах и книгах, которые пользователь посмотрел и прочитал."
   ]
  },
  {
   "cell_type": "code",
   "execution_count": 1,
   "metadata": {},
   "outputs": [],
   "source": [
    "import sqlalchemy"
   ]
  },
  {
   "cell_type": "code",
   "execution_count": 19,
   "metadata": {},
   "outputs": [],
   "source": [
    "from sqlalchemy import *\n",
    "from sqlalchemy.ext.declarative import *\n",
    "from sqlalchemy.orm import *\n",
    "\n",
    "\n",
    "engine = create_engine('sqlite:///practice2_.db')\n",
    "Session = sessionmaker()\n",
    "Base = declarative_base(bind=engine)\n",
    "\n",
    "class User(Base):\n",
    "    __tablename__ = 'user'\n",
    "    id = Column(Integer, primary_key=True)\n",
    "    name = Column(Text)\n",
    "    login = Column(Text)\n",
    "    password = Column(Text)\n",
    "    \n",
    "    def __repr__(self):\n",
    "        return '{}, {}, {}'.format(self.name, self.login, self.password)"
   ]
  },
  {
   "cell_type": "code",
   "execution_count": 20,
   "metadata": {},
   "outputs": [],
   "source": [
    "class Data(Base):\n",
    "    __tablename__ = 'data'\n",
    "    id = Column(Integer, primary_key=True)\n",
    "    films = Column(Text)\n",
    "    books = Column(Text)\n",
    "    user_id = Column(sqlalchemy.ForeignKey('user.id'))\n",
    "    # указываем связб объектным способом\n",
    "    users = sqlalchemy.orm.relationship(\"User\", backref=\"data\")\n",
    "    \n",
    "    def __repr__(self):\n",
    "        return '{}, {}, {}'.format(self.films, self.books, self.user_id)"
   ]
  },
  {
   "cell_type": "markdown",
   "metadata": {},
   "source": [
    "Структура БД создана, теперь для примера сгенерируем некоторые данные и получим их из БД."
   ]
  },
  {
   "cell_type": "code",
   "execution_count": 21,
   "metadata": {},
   "outputs": [],
   "source": [
    "Base.metadata.create_all()\n",
    "DBSession = Session(bind=engine)"
   ]
  },
  {
   "cell_type": "code",
   "execution_count": 25,
   "metadata": {},
   "outputs": [
    {
     "data": {
      "text/plain": [
       "[Silly, silly@gmail.com, 12345, Silly, silly@gmail.com, 12345]"
      ]
     },
     "execution_count": 25,
     "metadata": {},
     "output_type": "execute_result"
    }
   ],
   "source": [
    "DBSession.query(User).all()"
   ]
  },
  {
   "cell_type": "code",
   "execution_count": 26,
   "metadata": {},
   "outputs": [
    {
     "data": {
      "text/plain": [
       "[stupid and stupider, stupid and stupider 2, Can't read :), 1,\n",
       " stupid and stupider, stupid and stupider 2, Can't read :), 1]"
      ]
     },
     "execution_count": 26,
     "metadata": {},
     "output_type": "execute_result"
    }
   ],
   "source": [
    "DBSession.query(Data).all()"
   ]
  },
  {
   "cell_type": "code",
   "execution_count": 24,
   "metadata": {},
   "outputs": [],
   "source": [
    "DBSession.add(User(name=\"Silly\", login=\"silly@gmail.com\", password=\"12345\"))\n",
    "DBSession.add(Data(films=\"stupid and stupider, stupid and stupider 2\", books=\"Can't read :)\", user_id=1))\n",
    "DBSession.commit()"
   ]
  },
  {
   "cell_type": "code",
   "execution_count": null,
   "metadata": {},
   "outputs": [],
   "source": [
    "DBSession.query(User).all()"
   ]
  },
  {
   "cell_type": "code",
   "execution_count": null,
   "metadata": {},
   "outputs": [],
   "source": [
    "DBSession.query(Data).all()"
   ]
  },
  {
   "cell_type": "code",
   "execution_count": 30,
   "metadata": {},
   "outputs": [
    {
     "data": {
      "text/plain": [
       "[(Silly, silly@gmail.com, 12345,\n",
       "  stupid and stupider, stupid and stupider 2, Can't read :), 1),\n",
       " (Silly, silly@gmail.com, 12345,\n",
       "  stupid and stupider, stupid and stupider 2, Can't read :), 1)]"
      ]
     },
     "execution_count": 30,
     "metadata": {},
     "output_type": "execute_result"
    }
   ],
   "source": [
    "# Выборка по двум таблицам\n",
    "query = DBSession.query(User, Data).filter(User.id==Data.user_id)\n",
    "# print (query)\n",
    "query.all()"
   ]
  },
  {
   "cell_type": "code",
   "execution_count": null,
   "metadata": {},
   "outputs": [],
   "source": []
  }
 ],
 "metadata": {
  "kernelspec": {
   "display_name": "Python 3",
   "language": "python",
   "name": "python3"
  },
  "language_info": {
   "codemirror_mode": {
    "name": "ipython",
    "version": 3
   },
   "file_extension": ".py",
   "mimetype": "text/x-python",
   "name": "python",
   "nbconvert_exporter": "python",
   "pygments_lexer": "ipython3",
   "version": "3.6.5"
  }
 },
 "nbformat": 4,
 "nbformat_minor": 2
}
